{
 "cells": [
  {
   "cell_type": "code",
   "execution_count": 1,
   "metadata": {
    "collapsed": true
   },
   "outputs": [],
   "source": [
    "#Start 5 min q&A\n",
    "#1 min freestyle\n",
    "\n",
    "#dimensionaltiy reduction reasons\n",
    "# 1. Space efficiency - makes data small\n",
    "# 2. Computing efficiency It fastens the time required for performing same computations. \n",
    "# Less dimensions leads to less computing, \n",
    "# also less dimensions can allow usage of algorithms unfit for a large number of dimensions like linear regression\n",
    "# 3. Visualizations!\n",
    "\n",
    "#We'll compare 2 - PCA and T-SNE most popular.\n",
    "#feature selection: you select a subset of the original feature set; while (NO NEED)\n",
    "#feature extraction: you build a new set of features from the original feature set.\n",
    "\n",
    "# Exploration of Principle Component Analysis\n",
    "#PCA finds the principal components of data.\n",
    "\n",
    "#It is often useful to measure data in terms of its principal components \n",
    "#rather than on a normal x-y axis. So what are principal components then? \n",
    "#They’re the underlying structure in the data. They are the directions where there is \n",
    "#the most variance, the directions where the data is most spread out. This is \n",
    "#easiest to explain by way of example. Here’s some triangles in the shape of an oval:\n",
    "#https://georgemdallas.wordpress.com/2013/10/30/principal-component-analysis-4-dummies-eigenvectors-eigenvalues-and-dimension-reduction/"
   ]
  },
  {
   "cell_type": "code",
   "execution_count": 1,
   "metadata": {
    "collapsed": true
   },
   "outputs": [],
   "source": [
    "import numpy as np\n",
    "np.random.seed(1) # random seed for consistency, debugging same results every time"
   ]
  },
  {
   "cell_type": "code",
   "execution_count": 3,
   "metadata": {
    "collapsed": true
   },
   "outputs": [],
   "source": [
    "#We'll first create 2 classes\n",
    "\n",
    "#each with 3 features\n",
    "# create class 1 random sampled 3 X 20 data set "
   ]
  },
  {
   "cell_type": "code",
   "execution_count": 2,
   "metadata": {
    "collapsed": false
   },
   "outputs": [
    {
     "name": "stdout",
     "output_type": "stream",
     "text": [
      "[[ 1.62434536 -1.07296862  1.74481176 -0.24937038 -0.3224172  -1.09989127\n",
      "   0.04221375  1.14472371  0.90085595 -0.93576943 -0.69166075 -0.84520564\n",
      "  -1.11731035  0.74204416 -0.74715829 -0.63699565  0.12015895 -0.35224985\n",
      "  -0.20889423  0.93110208]\n",
      " [-0.61175641  0.86540763 -0.7612069   1.46210794 -0.38405435 -0.17242821\n",
      "   0.58281521  0.90159072 -0.68372786 -0.26788808 -0.39675353 -0.67124613\n",
      "   0.2344157  -0.19183555  1.6924546   0.19091548  0.61720311 -1.1425182\n",
      "   0.58662319  0.28558733]\n",
      " [-0.52817175 -2.3015387   0.3190391  -2.06014071  1.13376944 -0.87785842\n",
      "  -1.10061918  0.50249434 -0.12289023  0.53035547 -0.6871727  -0.0126646\n",
      "   1.65980218 -0.88762896  0.05080775  2.10025514  0.30017032 -0.34934272\n",
      "   0.83898341  0.88514116]]\n"
     ]
    }
   ],
   "source": [
    "\n",
    "mu_vec1 = np.array([0,0,0])  # sample mean\n",
    "cov_mat1 = np.array([[1,0,0],[0,1,0],[0,0,1]]) # sample covariance\n",
    "\n",
    "class1_sample = np.random.multivariate_normal(mu_vec1, cov_mat1, 20).T\n",
    "print class1_sample"
   ]
  },
  {
   "cell_type": "code",
   "execution_count": 3,
   "metadata": {
    "collapsed": false
   },
   "outputs": [],
   "source": [
    "# create class 2 random sampled 3 x 20 data set"
   ]
  },
  {
   "cell_type": "code",
   "execution_count": 4,
   "metadata": {
    "collapsed": false
   },
   "outputs": [
    {
     "name": "stdout",
     "output_type": "stream",
     "text": [
      "[[ 0.24560206  0.70190716  2.13162939 -0.39649634  1.16003707 -1.02220122\n",
      "   1.23009474  0.79924193  1.19829972  1.37756379  2.19891788  0.36126959\n",
      "   0.65614632  1.69803203  1.40349164  1.16938243  0.73378149  1.31515939\n",
      "   1.35054598 -0.61577235]\n",
      " [ 2.25286816  1.48851815  2.51981682 -0.44411381  1.87616892  0.69379599\n",
      "   1.76201118  1.18656139  1.11900865  1.12182127  1.18515642  1.42349435\n",
      "   1.04359686  0.55287144  1.59357852  1.74055645  1.03261455  1.84616065\n",
      "  -0.31228341  2.12141771]\n",
      " [ 1.51292982  0.92442829  3.18557541  0.49553414  1.31563495  1.82797464\n",
      "   0.77767186  1.41005165  0.32933771  2.12948391  0.62471505  1.07734007\n",
      "   0.37999916  2.2245077  -0.09491185  0.0462994  -0.37311732  0.14048406\n",
      "   0.96130449  1.40890054]]\n"
     ]
    }
   ],
   "source": [
    "mu_vec2 = np.array([1,1,1]) # sample mean\n",
    "cov_mat2 = np.array([[1,0,0],[0,1,0],[0,0,1]]) #sample covariance\n",
    "class2_sample = np.random.multivariate_normal(mu_vec2, cov_mat2, 20).T\n",
    "print class2_sample"
   ]
  },
  {
   "cell_type": "code",
   "execution_count": 5,
   "metadata": {
    "collapsed": true
   },
   "outputs": [],
   "source": [
    "# plot samples"
   ]
  },
  {
   "cell_type": "code",
   "execution_count": 7,
   "metadata": {
    "collapsed": false
   },
   "outputs": [
    {
     "name": "stdout",
     "output_type": "stream",
     "text": [
      "Populating the interactive namespace from numpy and matplotlib\n"
     ]
    },
    {
     "ename": "ValueError",
     "evalue": "Unknown projection '3d'",
     "output_type": "error",
     "traceback": [
      "\u001b[1;31m---------------------------------------------------------------------------\u001b[0m",
      "\u001b[1;31mValueError\u001b[0m                                Traceback (most recent call last)",
      "\u001b[1;32m<ipython-input-7-e60565ab6042>\u001b[0m in \u001b[0;36m<module>\u001b[1;34m()\u001b[0m\n\u001b[0;32m      8\u001b[0m \u001b[1;31m#3d subplot\u001b[0m\u001b[1;33m\u001b[0m\u001b[1;33m\u001b[0m\u001b[0m\n\u001b[0;32m      9\u001b[0m \u001b[1;31m#These are subplot grid parameters encoded as a single integer, so 1x1 grid 1st subplot\u001b[0m\u001b[1;33m\u001b[0m\u001b[1;33m\u001b[0m\u001b[0m\n\u001b[1;32m---> 10\u001b[1;33m \u001b[0max\u001b[0m \u001b[1;33m=\u001b[0m \u001b[0mfig\u001b[0m\u001b[1;33m.\u001b[0m\u001b[0madd_subplot\u001b[0m\u001b[1;33m(\u001b[0m\u001b[1;36m111\u001b[0m\u001b[1;33m,\u001b[0m \u001b[0mprojection\u001b[0m\u001b[1;33m=\u001b[0m\u001b[1;34m'3d'\u001b[0m\u001b[1;33m)\u001b[0m\u001b[1;33m\u001b[0m\u001b[0m\n\u001b[0m\u001b[0;32m     11\u001b[0m \u001b[1;31m#fontsize\u001b[0m\u001b[1;33m\u001b[0m\u001b[1;33m\u001b[0m\u001b[0m\n\u001b[0;32m     12\u001b[0m \u001b[0mplt\u001b[0m\u001b[1;33m.\u001b[0m\u001b[0mrcParams\u001b[0m\u001b[1;33m[\u001b[0m\u001b[1;34m'legend.fontsize'\u001b[0m\u001b[1;33m]\u001b[0m \u001b[1;33m=\u001b[0m \u001b[1;36m10\u001b[0m\u001b[1;33m\u001b[0m\u001b[0m\n",
      "\u001b[1;32mC:\\Users\\nitin2351\\Anaconda2\\lib\\site-packages\\matplotlib\\figure.pyc\u001b[0m in \u001b[0;36madd_subplot\u001b[1;34m(self, *args, **kwargs)\u001b[0m\n\u001b[0;32m    985\u001b[0m         \u001b[1;32melse\u001b[0m\u001b[1;33m:\u001b[0m\u001b[1;33m\u001b[0m\u001b[0m\n\u001b[0;32m    986\u001b[0m             projection_class, kwargs, key = process_projection_requirements(\n\u001b[1;32m--> 987\u001b[1;33m                 self, *args, **kwargs)\n\u001b[0m\u001b[0;32m    988\u001b[0m \u001b[1;33m\u001b[0m\u001b[0m\n\u001b[0;32m    989\u001b[0m             \u001b[1;31m# try to find the axes with this key in the stack\u001b[0m\u001b[1;33m\u001b[0m\u001b[1;33m\u001b[0m\u001b[0m\n",
      "\u001b[1;32mC:\\Users\\nitin2351\\Anaconda2\\lib\\site-packages\\matplotlib\\projections\\__init__.pyc\u001b[0m in \u001b[0;36mprocess_projection_requirements\u001b[1;34m(figure, *args, **kwargs)\u001b[0m\n\u001b[0;32m     96\u001b[0m \u001b[1;33m\u001b[0m\u001b[0m\n\u001b[0;32m     97\u001b[0m     \u001b[1;32mif\u001b[0m \u001b[0misinstance\u001b[0m\u001b[1;33m(\u001b[0m\u001b[0mprojection\u001b[0m\u001b[1;33m,\u001b[0m \u001b[0msix\u001b[0m\u001b[1;33m.\u001b[0m\u001b[0mstring_types\u001b[0m\u001b[1;33m)\u001b[0m \u001b[1;32mor\u001b[0m \u001b[0mprojection\u001b[0m \u001b[1;32mis\u001b[0m \u001b[0mNone\u001b[0m\u001b[1;33m:\u001b[0m\u001b[1;33m\u001b[0m\u001b[0m\n\u001b[1;32m---> 98\u001b[1;33m         \u001b[0mprojection_class\u001b[0m \u001b[1;33m=\u001b[0m \u001b[0mget_projection_class\u001b[0m\u001b[1;33m(\u001b[0m\u001b[0mprojection\u001b[0m\u001b[1;33m)\u001b[0m\u001b[1;33m\u001b[0m\u001b[0m\n\u001b[0m\u001b[0;32m     99\u001b[0m     \u001b[1;32melif\u001b[0m \u001b[0mhasattr\u001b[0m\u001b[1;33m(\u001b[0m\u001b[0mprojection\u001b[0m\u001b[1;33m,\u001b[0m \u001b[1;34m'_as_mpl_axes'\u001b[0m\u001b[1;33m)\u001b[0m\u001b[1;33m:\u001b[0m\u001b[1;33m\u001b[0m\u001b[0m\n\u001b[0;32m    100\u001b[0m         \u001b[0mprojection_class\u001b[0m\u001b[1;33m,\u001b[0m \u001b[0mextra_kwargs\u001b[0m \u001b[1;33m=\u001b[0m \u001b[0mprojection\u001b[0m\u001b[1;33m.\u001b[0m\u001b[0m_as_mpl_axes\u001b[0m\u001b[1;33m(\u001b[0m\u001b[1;33m)\u001b[0m\u001b[1;33m\u001b[0m\u001b[0m\n",
      "\u001b[1;32mC:\\Users\\nitin2351\\Anaconda2\\lib\\site-packages\\matplotlib\\projections\\__init__.pyc\u001b[0m in \u001b[0;36mget_projection_class\u001b[1;34m(projection)\u001b[0m\n\u001b[0;32m     65\u001b[0m         \u001b[1;32mreturn\u001b[0m \u001b[0mprojection_registry\u001b[0m\u001b[1;33m.\u001b[0m\u001b[0mget_projection_class\u001b[0m\u001b[1;33m(\u001b[0m\u001b[0mprojection\u001b[0m\u001b[1;33m)\u001b[0m\u001b[1;33m\u001b[0m\u001b[0m\n\u001b[0;32m     66\u001b[0m     \u001b[1;32mexcept\u001b[0m \u001b[0mKeyError\u001b[0m\u001b[1;33m:\u001b[0m\u001b[1;33m\u001b[0m\u001b[0m\n\u001b[1;32m---> 67\u001b[1;33m         \u001b[1;32mraise\u001b[0m \u001b[0mValueError\u001b[0m\u001b[1;33m(\u001b[0m\u001b[1;34m\"Unknown projection '%s'\"\u001b[0m \u001b[1;33m%\u001b[0m \u001b[0mprojection\u001b[0m\u001b[1;33m)\u001b[0m\u001b[1;33m\u001b[0m\u001b[0m\n\u001b[0m\u001b[0;32m     68\u001b[0m \u001b[1;33m\u001b[0m\u001b[0m\n\u001b[0;32m     69\u001b[0m \u001b[1;33m\u001b[0m\u001b[0m\n",
      "\u001b[1;31mValueError\u001b[0m: Unknown projection '3d'"
     ]
    },
    {
     "data": {
      "text/plain": [
       "<matplotlib.figure.Figure at 0x6dd05f8>"
      ]
     },
     "metadata": {},
     "output_type": "display_data"
    }
   ],
   "source": [
    "%pylab inline\n",
    "\n",
    "#plotting\n",
    "from matplotlib import pyplot as plt\n",
    "\n",
    "#figure, width and height\n",
    "fig = plt.figure(figsize=(8,8))\n",
    "#3d subplot\n",
    "#These are subplot grid parameters encoded as a single integer, so 1x1 grid 1st subplot\n",
    "ax = fig.add_subplot(111, projection='3d')\n",
    "#fontsize\n",
    "plt.rcParams['legend.fontsize'] = 10\n",
    "\n",
    "#plot samples\n",
    "ax.plot(class1_sample[0,:], class1_sample[1,:], class1_sample[2,:],\n",
    "        'o', markersize=8, color='blue', alpha=0.5, label='class1')\n",
    "ax.plot(class2_sample[0,:], class2_sample[1,:], class2_sample[2,:],\n",
    "        '^', markersize=8, alpha=0.5, color='green', label='class2')\n",
    "\n",
    "ax.legend(loc='upper right')\n",
    "\n",
    "plt.show()"
   ]
  },
  {
   "cell_type": "code",
   "execution_count": 9,
   "metadata": {
    "collapsed": true
   },
   "outputs": [],
   "source": [
    "# step 1. take the whole data set ignoring classes"
   ]
  },
  {
   "cell_type": "code",
   "execution_count": 12,
   "metadata": {
    "collapsed": true
   },
   "outputs": [],
   "source": [
    "#make it one big dataset\n",
    "#3 x 40 still 3 features\n",
    "all_samples = np.concatenate((class1_sample, class2_sample), axis=1)"
   ]
  },
  {
   "cell_type": "code",
   "execution_count": 13,
   "metadata": {
    "collapsed": false
   },
   "outputs": [
    {
     "data": {
      "text/plain": [
       "array([[ 1.62434536, -1.07296862,  1.74481176, -0.24937038, -0.3224172 ,\n",
       "        -1.09989127,  0.04221375,  1.14472371,  0.90085595, -0.93576943,\n",
       "        -0.69166075, -0.84520564, -1.11731035,  0.74204416, -0.74715829,\n",
       "        -0.63699565,  0.12015895, -0.35224985, -0.20889423,  0.93110208,\n",
       "         0.24560206,  0.70190716,  2.13162939, -0.39649634,  1.16003707,\n",
       "        -1.02220122,  1.23009474,  0.79924193,  1.19829972,  1.37756379,\n",
       "         2.19891788,  0.36126959,  0.65614632,  1.69803203,  1.40349164,\n",
       "         1.16938243,  0.73378149,  1.31515939,  1.35054598, -0.61577235],\n",
       "       [-0.61175641,  0.86540763, -0.7612069 ,  1.46210794, -0.38405435,\n",
       "        -0.17242821,  0.58281521,  0.90159072, -0.68372786, -0.26788808,\n",
       "        -0.39675353, -0.67124613,  0.2344157 , -0.19183555,  1.6924546 ,\n",
       "         0.19091548,  0.61720311, -1.1425182 ,  0.58662319,  0.28558733,\n",
       "         2.25286816,  1.48851815,  2.51981682, -0.44411381,  1.87616892,\n",
       "         0.69379599,  1.76201118,  1.18656139,  1.11900865,  1.12182127,\n",
       "         1.18515642,  1.42349435,  1.04359686,  0.55287144,  1.59357852,\n",
       "         1.74055645,  1.03261455,  1.84616065, -0.31228341,  2.12141771],\n",
       "       [-0.52817175, -2.3015387 ,  0.3190391 , -2.06014071,  1.13376944,\n",
       "        -0.87785842, -1.10061918,  0.50249434, -0.12289023,  0.53035547,\n",
       "        -0.6871727 , -0.0126646 ,  1.65980218, -0.88762896,  0.05080775,\n",
       "         2.10025514,  0.30017032, -0.34934272,  0.83898341,  0.88514116,\n",
       "         1.51292982,  0.92442829,  3.18557541,  0.49553414,  1.31563495,\n",
       "         1.82797464,  0.77767186,  1.41005165,  0.32933771,  2.12948391,\n",
       "         0.62471505,  1.07734007,  0.37999916,  2.2245077 , -0.09491185,\n",
       "         0.0462994 , -0.37311732,  0.14048406,  0.96130449,  1.40890054]])"
      ]
     },
     "execution_count": 13,
     "metadata": {},
     "output_type": "execute_result"
    }
   ],
   "source": [
    "all_samples"
   ]
  },
  {
   "cell_type": "code",
   "execution_count": 12,
   "metadata": {
    "collapsed": false
   },
   "outputs": [
    {
     "data": {
      "text/plain": [
       "array([[ 1.62434536, -0.61175641, -0.52817175],\n",
       "       [-1.07296862,  0.86540763, -2.3015387 ],\n",
       "       [ 1.74481176, -0.7612069 ,  0.3190391 ],\n",
       "       [-0.24937038,  1.46210794, -2.06014071],\n",
       "       [-0.3224172 , -0.38405435,  1.13376944],\n",
       "       [-1.09989127, -0.17242821, -0.87785842],\n",
       "       [ 0.04221375,  0.58281521, -1.10061918],\n",
       "       [ 1.14472371,  0.90159072,  0.50249434],\n",
       "       [ 0.90085595, -0.68372786, -0.12289023],\n",
       "       [-0.93576943, -0.26788808,  0.53035547],\n",
       "       [-0.69166075, -0.39675353, -0.6871727 ],\n",
       "       [-0.84520564, -0.67124613, -0.0126646 ],\n",
       "       [-1.11731035,  0.2344157 ,  1.65980218],\n",
       "       [ 0.74204416, -0.19183555, -0.88762896],\n",
       "       [-0.74715829,  1.6924546 ,  0.05080775],\n",
       "       [-0.63699565,  0.19091548,  2.10025514],\n",
       "       [ 0.12015895,  0.61720311,  0.30017032],\n",
       "       [-0.35224985, -1.1425182 , -0.34934272],\n",
       "       [-0.20889423,  0.58662319,  0.83898341],\n",
       "       [ 0.93110208,  0.28558733,  0.88514116],\n",
       "       [ 0.24560206,  2.25286816,  1.51292982],\n",
       "       [ 0.70190716,  1.48851815,  0.92442829],\n",
       "       [ 2.13162939,  2.51981682,  3.18557541],\n",
       "       [-0.39649634, -0.44411381,  0.49553414],\n",
       "       [ 1.16003707,  1.87616892,  1.31563495],\n",
       "       [-1.02220122,  0.69379599,  1.82797464],\n",
       "       [ 1.23009474,  1.76201118,  0.77767186],\n",
       "       [ 0.79924193,  1.18656139,  1.41005165],\n",
       "       [ 1.19829972,  1.11900865,  0.32933771],\n",
       "       [ 1.37756379,  1.12182127,  2.12948391],\n",
       "       [ 2.19891788,  1.18515642,  0.62471505],\n",
       "       [ 0.36126959,  1.42349435,  1.07734007],\n",
       "       [ 0.65614632,  1.04359686,  0.37999916],\n",
       "       [ 1.69803203,  0.55287144,  2.2245077 ],\n",
       "       [ 1.40349164,  1.59357852, -0.09491185],\n",
       "       [ 1.16938243,  1.74055645,  0.0462994 ],\n",
       "       [ 0.73378149,  1.03261455, -0.37311732],\n",
       "       [ 1.31515939,  1.84616065,  0.14048406],\n",
       "       [ 1.35054598, -0.31228341,  0.96130449],\n",
       "       [-0.61577235,  2.12141771,  1.40890054]])"
      ]
     },
     "execution_count": 12,
     "metadata": {},
     "output_type": "execute_result"
    }
   ],
   "source": [
    "all_samples.T"
   ]
  },
  {
   "cell_type": "code",
   "execution_count": 13,
   "metadata": {
    "collapsed": true
   },
   "outputs": [],
   "source": [
    "# step 2. compute the d dimensional mean vector, to help compute covariance matrix"
   ]
  },
  {
   "cell_type": "code",
   "execution_count": 14,
   "metadata": {
    "collapsed": false
   },
   "outputs": [
    {
     "name": "stdout",
     "output_type": "stream",
     "text": [
      "('Mean Vector:\\n', array([[ 0.41667492],\n",
      "       [ 0.69848315],\n",
      "       [ 0.49242335]]))\n"
     ]
    }
   ],
   "source": [
    "#mean for each feature\n",
    "mean_x = np.mean(all_samples[0,:])\n",
    "mean_y = np.mean(all_samples[1,:])\n",
    "mean_z = np.mean(all_samples[2,:])\n",
    "\n",
    "#3D mean vector\n",
    "mean_vector = np.array([[mean_x],[mean_y],[mean_z]])\n",
    "print('Mean Vector:\\n', mean_vector)"
   ]
  },
  {
   "cell_type": "code",
   "execution_count": 15,
   "metadata": {
    "collapsed": true
   },
   "outputs": [],
   "source": [
    "# step 3. compute the covariance matrix"
   ]
  },
  {
   "cell_type": "code",
   "execution_count": 15,
   "metadata": {
    "collapsed": false
   },
   "outputs": [
    {
     "name": "stdout",
     "output_type": "stream",
     "text": [
      "('Covariance Matrix:\\n', array([[ 0.9868668 ,  0.26943262,  0.2855759 ],\n",
      "       [ 0.26943262,  0.92914135,  0.30682016],\n",
      "       [ 0.2855759 ,  0.30682016,  1.27528118]]))\n"
     ]
    }
   ],
   "source": [
    "#covariane matrix models relationship between our variables. the variance between each\n",
    "#http://support.minitab.com/en-us/minitab/17/topic-library/modeling-statistics/anova/anova-statistics/what-is-the-variance-covariance-matrix/\n",
    "#http://stats.seandolinar.com/making-a-covariance-matrix-in-r/\n",
    "#Variance is the degree by which a random vairable changes with respect to its expected value\n",
    "#Covariance is the degree by which two different random variables change with respect to each other. \n",
    "#measures relationship between each feature\n",
    "cov_mat = np.cov([all_samples[0,:],all_samples[1,:],all_samples[2,:]])\n",
    "print('Covariance Matrix:\\n', cov_mat)"
   ]
  },
  {
   "cell_type": "code",
   "execution_count": 19,
   "metadata": {
    "collapsed": true
   },
   "outputs": [],
   "source": [
    "# note covariance and scatter matricies are idenical except for a scaling factor 1/N"
   ]
  },
  {
   "cell_type": "code",
   "execution_count": 20,
   "metadata": {
    "collapsed": true
   },
   "outputs": [],
   "source": [
    "# Step 4. computer eigenvectors and eigenvalues\n",
    "#Eigenvalues/vectors are instrumental to understanding electrical circuits, mechanical systems, ecology and \n",
    "#even Google's PageRank algorithm. \n",
    "#Eigenvectors make understanding linear transformations easy.\n",
    "#They are the \"axes\" (directions) along which a linear transformation acts simply by \n",
    "#\"stretching/compressing\" and/or \"flipping\"; \n",
    "#eigenvalues give you the factors by which this compression occurs.\n",
    "#There are a lot of problems that can be modeled with linear transformations, and \n",
    "#the eigenvectors give very simply solution\n",
    "#The more directions you have along which you understand the behavior of a \n",
    "#linear transformation, the easier it is to understand the linear transformation; \n",
    "#so you want to have as many linearly independent eigenvectors as possible associated \n",
    "#to a single linear transformation.\n",
    "#interactive tool - http://setosa.io/ev/eigenvectors-and-eigenvalues/"
   ]
  },
  {
   "cell_type": "code",
   "execution_count": 20,
   "metadata": {
    "collapsed": false
   },
   "outputs": [
    {
     "data": {
      "text/plain": [
       "array([[-0.49210223, -0.64670286,  0.58276136],\n",
       "       [-0.47927902, -0.35756937, -0.8015209 ],\n",
       "       [-0.72672348,  0.67373552,  0.13399043]])"
      ]
     },
     "execution_count": 20,
     "metadata": {},
     "output_type": "execute_result"
    }
   ],
   "source": [
    "# eigenvectors and eigenvalues for the from the scatter matrix\n",
    "eig_val_sc, eig_vec_sc = np.linalg.eig(cov_mat)\n",
    "#eig_val_sc\n",
    "eig_vec_sc\n"
   ]
  },
  {
   "cell_type": "code",
   "execution_count": 22,
   "metadata": {
    "collapsed": false
   },
   "outputs": [
    {
     "name": "stdout",
     "output_type": "stream",
     "text": [
      "Eigenvector 1: \n",
      "[[-0.49210223 -0.47927902 -0.72672348]]\n",
      "Eigenvalue 1 from scatter matrix: 1.67100943053\n",
      "Eigenvector 2: \n",
      "[[-0.64670286 -0.35756937  0.67373552]]\n",
      "Eigenvalue 2 from scatter matrix: 0.838325973416\n",
      "Eigenvector 3: \n",
      "[[ 0.58276136 -0.8015209   0.13399043]]\n",
      "Eigenvalue 3 from scatter matrix: 0.68195393031\n"
     ]
    }
   ],
   "source": [
    "for i in range(len(eig_val_sc)):\n",
    "    eigvec_sc = eig_vec_sc[:,i].reshape(1,3)\n",
    "    print('Eigenvector {}: \\n{}'.format(i+1, eigvec_sc))\n",
    "    print('Eigenvalue {} from scatter matrix: {}'.format(i+1, eig_val_sc[i]))"
   ]
  },
  {
   "cell_type": "code",
   "execution_count": 51,
   "metadata": {
    "collapsed": true
   },
   "outputs": [],
   "source": [
    "# step 5. sort eigenvector by decreasing value"
   ]
  },
  {
   "cell_type": "code",
   "execution_count": 46,
   "metadata": {
    "collapsed": false
   },
   "outputs": [
    {
     "name": "stdout",
     "output_type": "stream",
     "text": [
      "(1.6710094305328691, array([-0.49210223, -0.47927902, -0.72672348]))\n",
      "[-0.49210223 -0.47927902 -0.72672348]\n",
      "[-0.64670286 -0.35756937  0.67373552]\n",
      "[ 0.58276136 -0.8015209   0.13399043]\n"
     ]
    }
   ],
   "source": [
    "# Make a list of (eigenvalue, eigenvector) tuples\n",
    "eig_pairs = [(np.abs(eig_val_sc[i]), eig_vec_sc[:,i])\n",
    "             for i in range(len(eig_val_sc))]\n",
    "\n",
    "\n",
    "# Sort the (eigenvalue, eigenvector) tuples from high to low\n",
    "eig_pairs.sort()\n",
    "eig_pairs.reverse()\n",
    "print (eig_pairs[0])\n",
    "\n",
    "# Visually confirm that the list is correctly sorted by decreasing eigenvalues\n",
    "for i in eig_pairs:\n",
    "    print(i[1])"
   ]
  },
  {
   "cell_type": "code",
   "execution_count": 54,
   "metadata": {
    "collapsed": true
   },
   "outputs": [],
   "source": [
    "# step 5.2 choose k eigenvectos w largest eigenvalues to form d x k matrix"
   ]
  },
  {
   "cell_type": "code",
   "execution_count": 55,
   "metadata": {
    "collapsed": false
   },
   "outputs": [
    {
     "name": "stdout",
     "output_type": "stream",
     "text": [
      "('Matrix W:\\n', array([[-0.49210223, -0.64670286],\n",
      "       [-0.47927902, -0.35756937],\n",
      "       [-0.72672348,  0.67373552]]))\n"
     ]
    }
   ],
   "source": [
    "#k is 2 \n",
    "matrix_w = np.hstack((eig_pairs[0][1].reshape(3,1),\n",
    "                      eig_pairs[1][1].reshape(3,1)))\n",
    "print('Matrix W:\\n', matrix_w)"
   ]
  },
  {
   "cell_type": "code",
   "execution_count": 56,
   "metadata": {
    "collapsed": true
   },
   "outputs": [],
   "source": [
    "# step 6. use d x k to transform samples to new subspace"
   ]
  },
  {
   "cell_type": "code",
   "execution_count": 57,
   "metadata": {
    "collapsed": true
   },
   "outputs": [],
   "source": [
    "#dot product between orignal matrix and eigen pairs\n",
    "transformed = matrix_w.T.dot(all_samples)\n",
    "assert transformed.shape == (2,40), \"The matrix is not 2x40 dimensional.\""
   ]
  },
  {
   "cell_type": "code",
   "execution_count": 58,
   "metadata": {
    "collapsed": false
   },
   "outputs": [
    {
     "data": {
      "image/png": "[encoded data removed]",
      "text/plain": [
       "<matplotlib.figure.Figure at 0x10f55b3d0>"
      ]
     },
     "metadata": {},
     "output_type": "display_data"
    }
   ],
   "source": [
    "plt.plot(transformed[0,0:20], transformed[1,0:20],\n",
    "         'o', markersize=7, color='green', alpha=0.5, label='class1')\n",
    "plt.plot(transformed[0,20:40], transformed[1,20:40],\n",
    "         '^', markersize=7, color='red', alpha=0.5, label='class2')\n",
    "plt.xlim([-5,5])\n",
    "plt.ylim([-5,5])\n",
    "plt.xlabel('x_values')\n",
    "plt.ylabel('y_values')\n",
    "plt.legend()\n",
    "plt.title('Transformed samples with class labels')\n",
    "\n",
    "plt.show()"
   ]
  },
  {
   "cell_type": "code",
   "execution_count": null,
   "metadata": {
    "collapsed": false
   },
   "outputs": [],
   "source": []
  },
  {
   "cell_type": "code",
   "execution_count": null,
   "metadata": {
    "collapsed": true
   },
   "outputs": [],
   "source": [
    "#comparison?\n",
    "\n",
    "#pros\n",
    "T-SNE gives better visualizations\n",
    "\n",
    "#on every other mark, efifiecny accuracy, PCA is better\n",
    "\n",
    "#PCA is label agnostic -- it treats the entire data set as a whole. \n",
    "#LDA, on the other hand, tries to explicitly model difference between classes \n",
    "#(labels) within the data. \n",
    "\n",
    "#PCA performs unsupervised transformation, while LDA is supervised. \n",
    "\n",
    "\n",
    "Best visualizations\n",
    "T-SNE\n",
    "\n",
    "Best generic dim r method \n",
    "PCA \n",
    "\n",
    "Best for supervised\n",
    "LDA\n",
    "\n",
    "\n",
    "T-SNE\n",
    "Step 1 - Compute similarity matrix between all feature vectors\n",
    "Step 2 - Compute similarity matrix from map points\n",
    "Step 3 - Use gradient descent to minimimze distance between matrices\n",
    "\n",
    "LDA (Linear Discriminant Analysis)\n",
    "\n",
    "Similar to LDA except Compute the  M mean vectors for the different classes from the dataset\n",
    "instead of #Take the whole dataset consisting of dd-dimensional samples ignoring the class labels\n",
    "Compute the dd-dimensional mean vector (i.e., the means for every dimension of the whole dataset).\n"
   ]
  }
 ],
 "metadata": {
  "kernelspec": {
   "display_name": "Python 2",
   "language": "python",
   "name": "python2"
  },
  "language_info": {
   "codemirror_mode": {
    "name": "ipython",
    "version": 2
   },
   "file_extension": ".py",
   "mimetype": "text/x-python",
   "name": "python",
   "nbconvert_exporter": "python",
   "pygments_lexer": "ipython2",
   "version": "2.7.12"
  }
 },
 "nbformat": 4,
 "nbformat_minor": 0
}
